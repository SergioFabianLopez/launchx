{
 "cells": [
  {
   "cell_type": "markdown",
   "metadata": {},
   "source": [
    "## Codigo de prueba"
   ]
  },
  {
   "cell_type": "code",
   "execution_count": 3,
   "metadata": {},
   "outputs": [
    {
     "name": "stdout",
     "output_type": "stream",
     "text": [
      "Valor encontrado es el numero 2\n"
     ]
    }
   ],
   "source": [
    "i = 2\n",
    "if i == 2:\n",
    "    # intrucción(es) a ejecutar\n",
    "    if i > 0:\n",
    "        print(\"Valor encontrado es el numero \" + str(i))\n",
    "    else: \n",
    "        print(\"Valor no encontrado\")\n",
    "elif i == 3:\n",
    "    print(\"Valor encontrado es el numero \" + str(i))\n",
    "else:\n",
    "    print(\"Valor no definido\")"
   ]
  }
 ],
 "metadata": {
  "interpreter": {
   "hash": "68f77d7988f678c26ea9e33a3766205473b3958c28e437e5f80f1733e7a472e3"
  },
  "kernelspec": {
   "display_name": "Python 3.10.2 64-bit",
   "language": "python",
   "name": "python3"
  },
  "language_info": {
   "codemirror_mode": {
    "name": "ipython",
    "version": 3
   },
   "file_extension": ".py",
   "mimetype": "text/x-python",
   "name": "python",
   "nbconvert_exporter": "python",
   "pygments_lexer": "ipython3",
   "version": "3.10.2"
  },
  "orig_nbformat": 4
 },
 "nbformat": 4,
 "nbformat_minor": 2
}
